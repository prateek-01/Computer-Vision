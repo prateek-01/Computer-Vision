{
  "nbformat": 4,
  "nbformat_minor": 0,
  "metadata": {
    "colab": {
      "name": "Untitled1.ipynb",
      "version": "0.3.2",
      "provenance": []
    },
    "kernelspec": {
      "name": "python2",
      "display_name": "Python 2"
    }
  },
  "cells": [
    {
      "cell_type": "markdown",
      "metadata": {
        "id": "view-in-github",
        "colab_type": "text"
      },
      "source": [
        "[View in Colaboratory](https://colab.research.google.com/github/prateek-01/Computer-Vision/blob/master/TransferLearning.ipynb)"
      ]
    },
    {
      "metadata": {
        "id": "TtuqrgfhhLmW",
        "colab_type": "code",
        "colab": {}
      },
      "cell_type": "code",
      "source": [
        "import numpy as np\n",
        "from matplotlib import pyplot as plt\n",
        "%matplotlib inline\n",
        "\n",
        "import keras\n",
        "from keras.datasets import cifar10\n",
        "from keras.layers import Dense, Convolution2D, Flatten, Activation, MaxPool2D, Dropout, Flatten\n",
        "from keras.models import Sequential\n",
        "from keras.utils import np_utils\n",
        "\n",
        "import time\n",
        "import datetime"
      ],
      "execution_count": 0,
      "outputs": []
    },
    {
      "metadata": {
        "id": "08CAEHT1yVPW",
        "colab_type": "code",
        "colab": {
          "base_uri": "https://localhost:8080/",
          "height": 74
        },
        "outputId": "3fbf37a3-8bf4-4c3b-d344-b54a74555096"
      },
      "cell_type": "code",
      "source": [
        "(x_train, y_train), (x_test, y_test) = cifar10.load_data()\n",
        "n_examples = 40000"
      ],
      "execution_count": 4,
      "outputs": [
        {
          "output_type": "stream",
          "text": [
            "Downloading data from https://www.cs.toronto.edu/~kriz/cifar-10-python.tar.gz\n",
            "170500096/170498071 [==============================] - 25s 0us/step\n",
            "170508288/170498071 [==============================] - 25s 0us/step\n"
          ],
          "name": "stdout"
        }
      ]
    },
    {
      "metadata": {
        "id": "a0S3DRqQypnU",
        "colab_type": "code",
        "colab": {}
      },
      "cell_type": "code",
      "source": [
        "X1_train = []\n",
        "X1_test = []\n",
        "\n",
        "X2_train = []\n",
        "X2_test = []\n",
        "\n",
        "Y1_train = []\n",
        "Y1_test = []\n",
        "\n",
        "Y2_train = []\n",
        "Y2_test = []\n",
        "\n",
        "for ix in range(n_examples):\n",
        "    if y_train[ix] < 5:\n",
        "        # Put data in set 01\n",
        "        X1_train.append(x_train[ix]/255.0)\n",
        "        Y1_train.append(y_train[ix])\n",
        "    else:\n",
        "        # Put data in set 02\n",
        "        X2_train.append(x_train[ix]/255.0)\n",
        "        Y2_train.append(y_train[ix])\n",
        "\n",
        "for ix in range(y_test.shape[0]):\n",
        "    if y_test[ix] < 5:\n",
        "        # Put data in set 01\n",
        "        X1_test.append(x_test[ix]/255.0)\n",
        "        Y1_test.append(y_test[ix])\n",
        "    else:\n",
        "        # Put data in set 02\n",
        "        X2_test.append(x_test[ix]/255.0)\n",
        "        Y2_test.append(y_test[ix])"
      ],
      "execution_count": 0,
      "outputs": []
    },
    {
      "metadata": {
        "id": "-d8FZRjgyx4o",
        "colab_type": "code",
        "colab": {}
      },
      "cell_type": "code",
      "source": [
        "X1_train = np.asarray(X1_train).reshape((-1, 32, 32, 3))\n",
        "X1_test = np.asarray(X1_test).reshape((-1, 32, 32, 3))\n",
        "\n",
        "X2_train = np.asarray(X2_train).reshape((-1, 32, 32, 3))\n",
        "X2_test = np.asarray(X2_test).reshape((-1, 32, 32, 3))\n",
        "\n",
        "Y1_train = np_utils.to_categorical(np.asarray(Y1_train), num_classes=5)\n",
        "Y1_test = np_utils.to_categorical(np.asarray(Y1_test), num_classes=5)\n",
        "\n",
        "Y2_train = np_utils.to_categorical(np.asarray(Y2_train)-5, num_classes=5)\n",
        "Y2_test = np_utils.to_categorical(np.asarray(Y2_test)-5, num_classes=5)"
      ],
      "execution_count": 0,
      "outputs": []
    },
    {
      "metadata": {
        "id": "89iA2qkZyp1O",
        "colab_type": "code",
        "colab": {}
      },
      "cell_type": "code",
      "source": [
        "split1 = int(0.8 * X1_train.shape[0])\n",
        "split2 = int(0.8 * X2_train.shape[0])\n",
        "\n",
        "x1_val = X1_train[split1:]\n",
        "x1_train = X1_train[:split1]\n",
        "y1_val = Y1_train[split1:]\n",
        "y1_train = Y1_train[:split1]\n",
        "\n",
        "x2_val = X2_train[split2:]\n",
        "x2_train = X2_train[:split2]\n",
        "y2_val = Y2_train[split2:]\n",
        "y2_train = Y2_train[:split2]"
      ],
      "execution_count": 0,
      "outputs": []
    },
    {
      "metadata": {
        "id": "ZjMIWIeCvvLa",
        "colab_type": "code",
        "colab": {
          "base_uri": "https://localhost:8080/",
          "height": 92
        },
        "outputId": "770d1b41-bf8d-4327-b5dc-9aef7b3bb29c"
      },
      "cell_type": "code",
      "source": [
        "print x1_train.shape, X1_test.shape\n",
        "print Y1_train.shape, Y1_test.shape\n",
        "\n",
        "print X2_train.shape, X2_test.shape\n",
        "print Y2_train.shape, Y2_test.shape"
      ],
      "execution_count": 8,
      "outputs": [
        {
          "output_type": "stream",
          "text": [
            "(16005, 32, 32, 3) (5000, 32, 32, 3)\n",
            "(20007, 5) (5000, 5)\n",
            "(19993, 32, 32, 3) (5000, 32, 32, 3)\n",
            "(19993, 5) (5000, 5)\n"
          ],
          "name": "stdout"
        }
      ]
    },
    {
      "metadata": {
        "id": "haIP8exYzFMY",
        "colab_type": "code",
        "colab": {
          "base_uri": "https://localhost:8080/",
          "height": 526
        },
        "outputId": "791da6e6-e7e5-482b-ab4d-e68fbc911b6d"
      },
      "cell_type": "code",
      "source": [
        "model = Sequential()\n",
        "\n",
        "model.add(Convolution2D(32, 5, input_shape=(32, 32, 3), activation='relu'))\n",
        "model.add(Convolution2D(16, 5, activation='relu'))\n",
        "model.add(MaxPool2D(pool_size=(2, 2)))\n",
        "model.add(Convolution2D(8, 3, activation='relu'))\n",
        "model.add(Flatten())\n",
        "model.add(Dropout(0.42))\n",
        "\n",
        "model.add(Dense(128))\n",
        "model.add(Activation('relu'))\n",
        "\n",
        "model.add(Dense(5))\n",
        "model.add(Activation('softmax'))\n",
        "\n",
        "model.summary()\n",
        "model.compile(loss='categorical_crossentropy', optimizer='adam', metrics=['accuracy'])"
      ],
      "execution_count": 9,
      "outputs": [
        {
          "output_type": "stream",
          "text": [
            "_________________________________________________________________\n",
            "Layer (type)                 Output Shape              Param #   \n",
            "=================================================================\n",
            "conv2d_1 (Conv2D)            (None, 28, 28, 32)        2432      \n",
            "_________________________________________________________________\n",
            "conv2d_2 (Conv2D)            (None, 24, 24, 16)        12816     \n",
            "_________________________________________________________________\n",
            "max_pooling2d_1 (MaxPooling2 (None, 12, 12, 16)        0         \n",
            "_________________________________________________________________\n",
            "conv2d_3 (Conv2D)            (None, 10, 10, 8)         1160      \n",
            "_________________________________________________________________\n",
            "flatten_1 (Flatten)          (None, 800)               0         \n",
            "_________________________________________________________________\n",
            "dropout_1 (Dropout)          (None, 800)               0         \n",
            "_________________________________________________________________\n",
            "dense_1 (Dense)              (None, 128)               102528    \n",
            "_________________________________________________________________\n",
            "activation_1 (Activation)    (None, 128)               0         \n",
            "_________________________________________________________________\n",
            "dense_2 (Dense)              (None, 5)                 645       \n",
            "_________________________________________________________________\n",
            "activation_2 (Activation)    (None, 5)                 0         \n",
            "=================================================================\n",
            "Total params: 119,581\n",
            "Trainable params: 119,581\n",
            "Non-trainable params: 0\n",
            "_________________________________________________________________\n"
          ],
          "name": "stdout"
        }
      ]
    },
    {
      "metadata": {
        "id": "FvBg3W5tzHWS",
        "colab_type": "code",
        "colab": {
          "base_uri": "https://localhost:8080/",
          "height": 451
        },
        "outputId": "49ee4a80-1c4b-49b1-bb4d-68532fbe5f44"
      },
      "cell_type": "code",
      "source": [
        "start = datetime.datetime.now()\n",
        "hist = model.fit(x1_train, y1_train,\n",
        "                epochs=10,\n",
        "                batch_size=100,\n",
        "                shuffle=True,\n",
        "                validation_data=(x1_val, y1_val), verbose=2)\n",
        "time_taken = datetime.datetime.now() - start\n",
        "print '-'*100\n",
        "print time_taken"
      ],
      "execution_count": 10,
      "outputs": [
        {
          "output_type": "stream",
          "text": [
            "Train on 16005 samples, validate on 4002 samples\n",
            "Epoch 1/10\n",
            " - 65s - loss: 1.2719 - acc: 0.4549 - val_loss: 1.2634 - val_acc: 0.4733\n",
            "Epoch 2/10\n",
            " - 66s - loss: 1.0437 - acc: 0.5714 - val_loss: 1.1943 - val_acc: 0.5212\n",
            "Epoch 3/10\n",
            " - 65s - loss: 0.9971 - acc: 0.5908 - val_loss: 1.0759 - val_acc: 0.5497\n",
            "Epoch 4/10\n",
            " - 64s - loss: 0.9521 - acc: 0.6129 - val_loss: 0.9356 - val_acc: 0.6117\n",
            "Epoch 5/10\n",
            " - 62s - loss: 0.9117 - acc: 0.6287 - val_loss: 0.9448 - val_acc: 0.6127\n",
            "Epoch 6/10\n",
            " - 63s - loss: 0.8806 - acc: 0.6456 - val_loss: 0.9001 - val_acc: 0.6344\n",
            "Epoch 7/10\n",
            " - 63s - loss: 0.8484 - acc: 0.6594 - val_loss: 0.9955 - val_acc: 0.6004\n",
            "Epoch 8/10\n",
            " - 63s - loss: 0.8318 - acc: 0.6635 - val_loss: 0.8634 - val_acc: 0.6519\n",
            "Epoch 9/10\n",
            " - 63s - loss: 0.8188 - acc: 0.6733 - val_loss: 0.8562 - val_acc: 0.6567\n",
            "Epoch 10/10\n",
            " - 63s - loss: 0.7924 - acc: 0.6848 - val_loss: 0.9084 - val_acc: 0.6337\n",
            "----------------------------------------------------------------------------------------------------\n",
            "0:10:38.724813\n"
          ],
          "name": "stdout"
        }
      ]
    },
    {
      "metadata": {
        "id": "PAuZsAk2zHhO",
        "colab_type": "code",
        "colab": {}
      },
      "cell_type": "code",
      "source": [
        "for l in model.layers[:7]:\n",
        "    l.trainable = False"
      ],
      "execution_count": 0,
      "outputs": []
    },
    {
      "metadata": {
        "id": "LGUey5KAzHb2",
        "colab_type": "code",
        "colab": {
          "base_uri": "https://localhost:8080/",
          "height": 489
        },
        "outputId": "0d5ec885-3320-424a-b343-84bb45523e40"
      },
      "cell_type": "code",
      "source": [
        "trans_model = Sequential(model.layers[:7])\n",
        "\n",
        "#trans_model.add(Dense(128))\n",
        "#trans_model.add(Activation('relu'))\n",
        "\n",
        "trans_model.add(Dense(5))\n",
        "trans_model.add(Activation('softmax'))\n",
        "\n",
        "trans_model.summary()\n",
        "trans_model.compile(loss='categorical_crossentropy', optimizer='adam', metrics=['accuracy'])"
      ],
      "execution_count": 12,
      "outputs": [
        {
          "output_type": "stream",
          "text": [
            "_________________________________________________________________\n",
            "Layer (type)                 Output Shape              Param #   \n",
            "=================================================================\n",
            "conv2d_1 (Conv2D)            (None, 28, 28, 32)        2432      \n",
            "_________________________________________________________________\n",
            "conv2d_2 (Conv2D)            (None, 24, 24, 16)        12816     \n",
            "_________________________________________________________________\n",
            "max_pooling2d_1 (MaxPooling2 (None, 12, 12, 16)        0         \n",
            "_________________________________________________________________\n",
            "conv2d_3 (Conv2D)            (None, 10, 10, 8)         1160      \n",
            "_________________________________________________________________\n",
            "flatten_1 (Flatten)          (None, 800)               0         \n",
            "_________________________________________________________________\n",
            "dropout_1 (Dropout)          (None, 800)               0         \n",
            "_________________________________________________________________\n",
            "dense_1 (Dense)              (None, 128)               102528    \n",
            "_________________________________________________________________\n",
            "dense_3 (Dense)              (None, 5)                 645       \n",
            "_________________________________________________________________\n",
            "activation_3 (Activation)    (None, 5)                 0         \n",
            "=================================================================\n",
            "Total params: 119,581\n",
            "Trainable params: 645\n",
            "Non-trainable params: 118,936\n",
            "_________________________________________________________________\n"
          ],
          "name": "stdout"
        }
      ]
    },
    {
      "metadata": {
        "id": "hm1UWCtXzeYO",
        "colab_type": "code",
        "colab": {
          "base_uri": "https://localhost:8080/",
          "height": 451
        },
        "outputId": "bc93e6b8-67a5-495b-b524-14bb1a954f8e"
      },
      "cell_type": "code",
      "source": [
        "start = datetime.datetime.now()\n",
        "hist = trans_model.fit(x2_train, y2_train,\n",
        "                epochs=10,\n",
        "                batch_size=100,\n",
        "                shuffle=True,\n",
        "                validation_data=(x2_val, y2_val), verbose=2)\n",
        "time_taken = datetime.datetime.now() - start\n",
        "print '-'*100\n",
        "print time_taken"
      ],
      "execution_count": 13,
      "outputs": [
        {
          "output_type": "stream",
          "text": [
            "Train on 15994 samples, validate on 3999 samples\n",
            "Epoch 1/10\n",
            " - 24s - loss: 1.2173 - acc: 0.4994 - val_loss: 0.9725 - val_acc: 0.6177\n",
            "Epoch 2/10\n",
            " - 25s - loss: 0.9628 - acc: 0.6173 - val_loss: 0.9179 - val_acc: 0.6377\n",
            "Epoch 3/10\n",
            " - 25s - loss: 0.9302 - acc: 0.6337 - val_loss: 0.8934 - val_acc: 0.6542\n",
            "Epoch 4/10\n",
            " - 25s - loss: 0.9166 - acc: 0.6432 - val_loss: 0.8813 - val_acc: 0.6589\n",
            "Epoch 5/10\n",
            " - 25s - loss: 0.9086 - acc: 0.6464 - val_loss: 0.8768 - val_acc: 0.6639\n",
            "Epoch 6/10\n",
            " - 25s - loss: 0.9019 - acc: 0.6499 - val_loss: 0.8723 - val_acc: 0.6654\n",
            "Epoch 7/10\n",
            " - 25s - loss: 0.8942 - acc: 0.6519 - val_loss: 0.8656 - val_acc: 0.6657\n",
            "Epoch 8/10\n",
            " - 25s - loss: 0.8920 - acc: 0.6511 - val_loss: 0.8602 - val_acc: 0.6712\n",
            "Epoch 9/10\n",
            " - 25s - loss: 0.8898 - acc: 0.6565 - val_loss: 0.8569 - val_acc: 0.6734\n",
            "Epoch 10/10\n",
            " - 25s - loss: 0.8827 - acc: 0.6553 - val_loss: 0.8530 - val_acc: 0.6789\n",
            "----------------------------------------------------------------------------------------------------\n",
            "0:04:08.793275\n"
          ],
          "name": "stdout"
        }
      ]
    },
    {
      "metadata": {
        "id": "QrqlA3iuzfxQ",
        "colab_type": "code",
        "colab": {
          "base_uri": "https://localhost:8080/",
          "height": 268
        },
        "outputId": "493933e2-e520-4d1c-a904-131c4811c44c"
      },
      "cell_type": "code",
      "source": [
        "plt.figure(0)\n",
        "plt.subplot(2, 2, 1)\n",
        "plt.imshow(x1_train[0])\n",
        "\n",
        "plt.subplot(2, 2, 2)\n",
        "plt.imshow(x1_train[1])\n",
        "\n",
        "plt.subplot(2, 2, 3)\n",
        "plt.imshow(x1_train[2])\n",
        "\n",
        "plt.subplot(2, 2, 4)\n",
        "plt.imshow(x1_train[3])\n",
        "\n",
        "\n",
        "plt.show()"
      ],
      "execution_count": 14,
      "outputs": [
        {
          "output_type": "display_data",
          "data": {
            "image/png": "[encoded data removed]",
            "text/plain": [
              "<matplotlib.figure.Figure at 0x7f3fd4145f50>"
            ]
          },
          "metadata": {
            "tags": []
          }
        }
      ]
    }
  ]
}